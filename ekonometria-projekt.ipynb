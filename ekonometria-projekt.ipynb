{
 "cells": [
  {
   "cell_type": "code",
   "execution_count": null,
   "id": "895f6abd-39c4-4dc9-8a2a-8e1b821d3a2c",
   "metadata": {},
   "outputs": [],
   "source": [
    "import numpy as np\n",
    "import scipy as sp\n",
    "import pandas as pd\n",
    "import os"
   ]
  },
  {
   "cell_type": "code",
   "execution_count": null,
   "id": "2590b530-68db-4410-99be-1d3c93c57a14",
   "metadata": {},
   "outputs": [],
   "source": [
    "def load_file(file_path):\n",
    "    if file_path[-3:] == 'tsv':\n",
    "        df = pd.read_csv(file_path, sep=\"\\t\")\n",
    "        df = df[df.iloc[:,0].apply(lambda x: x[-2:]) == 'SK'].transpose()\n",
    "        df.columns = df.iloc[0] \n",
    "        return df[1:]\n",
    "    if file_path[-3:] == 'csv':\n",
    "        return pd.read_csv(file_path)"
   ]
  },
  {
   "cell_type": "code",
   "execution_count": null,
   "id": "663bd5d1-20a1-49bf-acf3-fec30afa56c6",
   "metadata": {},
   "outputs": [],
   "source": [
    "datasets = [load_file('data/' + file) for file in os.listdir(\"data/\")]"
   ]
  }
 ],
 "metadata": {
  "kernelspec": {
   "display_name": "Python 3 (ipykernel)",
   "language": "python",
   "name": "python3"
  },
  "language_info": {
   "codemirror_mode": {
    "name": "ipython",
    "version": 3
   },
   "file_extension": ".py",
   "mimetype": "text/x-python",
   "name": "python",
   "nbconvert_exporter": "python",
   "pygments_lexer": "ipython3",
   "version": "3.9.5"
  }
 },
 "nbformat": 4,
 "nbformat_minor": 5
}
