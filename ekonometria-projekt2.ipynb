{
 "cells": [
  {
   "cell_type": "markdown",
   "id": "9062336b-4ef4-4135-a1f8-12a7642db350",
   "metadata": {},
   "source": [
    "# Wstęp"
   ]
  },
  {
   "cell_type": "markdown",
   "id": "95e3e79f-a73c-440e-bbe8-2fe11261966d",
   "metadata": {},
   "source": [
    "Celem projektu jest wykonanie modele ekonometrycznego przewidującego zużycie prądu elektrycznego\n",
    "na Słowacji w okresie 2008 - 2019.\n",
    "\n",
    "Do budowy modelu użyliśmy danych z ogólnodostępnych portali statystycznych\n",
    "\n",
    "- Eurostat\n",
    "- FRED\n",
    "- OECD\n",
    "\n",
    "Dane wejściowe miały częstotliwość kwartalną (czasem potrzebne były przekształcenia: agregacja, przyjęcie\n",
    "stałej wartości w okresie).\n",
    "\n",
    "Do doboru zmiennych objaśniających wykorzystaliśmy metodę grafową. Wcześniej odrzuciliśmy quasi-stałe i zbadaliśmy korelacje między zmiennymi. Następnie dopasowujemy współczynniki modelu i badamy jego wydajność."
   ]
  },
  {
   "cell_type": "markdown",
   "id": "4faf777d-c8f1-4813-9c64-96a9643b8972",
   "metadata": {
    "jupyter": {
     "outputs_hidden": false
    },
    "tags": []
   },
   "source": [
    "# Dane\n",
    "**Zmienna objaśniana**:\n",
    "\n",
    "ilość dostarczoneej energii elektrycznej na Słowacji w\n",
    "dane kwartalne 2008-2019\n",
    "\n",
    "**Zmienne objaśniające**:\n",
    "\n",
    "- `gdp` - PKB Słowacji - dane kwartalne\n",
    "- `cooling` - Liczba stopniodni chłodniczych na Słowacji - dane miesięczne\n",
    "- `heating` - Liczba stopniodni grzewczych na Słowacji - dane miesięczne\n",
    "- `brent` - cena ropy Brent - dane miesięczne\n",
    "- `dubai` - cena ropy Dubaj - dane miesięcnze\n",
    "- `disp_income` - Procentowa zmiana dochodu rozporządzalnego na Słowacji - dane roczne\n",
    "- `electricity_hh` - cena prądu dla gospodarstw domowych na Słowacji (uwzględniając podatki) - dane semestralne\n",
    "- `electricity_nhh` - cena prądu dla przedsiębiorców na Słowacji (uwzględniając podatki) - dane semestralne\n",
    "- `gas_hh` - cena gazu dla gospodarstw domowych na Słowacji (uwzględniając podatki) - dane semestralne\n",
    "- `gas_nhh` - cena gazu dla przedsiębiorców na Słowacji (uwzględniając podatki) - dane semestralne\n"
   ]
  },
  {
   "cell_type": "markdown",
   "id": "9688f27f-8251-4ea2-90b5-a7c7bc2defa5",
   "metadata": {},
   "source": [
    "# Ekonomiczne podstawy doboru zmiennych\n",
    "\n",
    "Dobór jako zmiennyc w modelu takich wielkości jak powyżej można uzasadnić na gruncie\n",
    "ekonomicznym. Najprostszym do wytłumaczenia jest wpływ PKB Słowacji - produkt krajowy brutto\n",
    "to suma wwartości dóbr wytworzonych na terenie danego kraju, a wytworzenie produktów i świadczenie\n",
    "usług przeważnie wiąże się ze zużyciem energii, często elektrycznej. Jeśli chodzi o cenę\n",
    "energii elektryczn, jej dołączenie jest poczywiste - popyt i cena są mocno powiązane\n",
    "(prawo popytu). Dochód rozporządzalny również jest istotną wielkością, ponieważ popyt\n",
    "zależny jest od dochodu jednostek - często przredstawia się go jako funkcję tego dochodu,\n",
    "jego wielkość w przypadku dóbr normalnych rośnie wraz ze wzrtostem cochodu. Istotną informacją jes\n",
    "temperatura powietrza, ponieważ do ogrzania czy schłodzenia przestrzeni potrzebna jest energia - część\n",
    "zapotrzebowania pokrywana jest przez energię elektryczną. Oprócz twymienionych tego dodaliśmy\n",
    "też do zbioru potenjclanych zmiennych ceny ropy i ceny gazu, gdyż są to po częśći dobra komplementarne\n",
    "do prądu elektrycznego - z nich również uzyskiwana jest energia, dobra te mogą się wzajemnie zastępować\n",
    "w niektórych zastosowaniach (np. ogrzewanie budynków gazem, samochody elektryczne i spalinowe)."
   ]
  },
  {
   "cell_type": "markdown",
   "id": "744ba787-18e0-4121-ae69-a96bb11ad85b",
   "metadata": {},
   "source": [
    "# Operacje wstępne"
   ]
  },
  {
   "cell_type": "code",
   "execution_count": 1,
   "id": "1ddbb7a7",
   "metadata": {
    "collapsed": false,
    "jupyter": {
     "outputs_hidden": false
    }
   },
   "outputs": [],
   "source": [
    "# przygotowanie bibliotek\n",
    "import numpy as np\n",
    "import scipy as sp\n",
    "import statsmodels.api as sm\n",
    "import pandas as pd\n",
    "import matplotlib\n",
    "import matplotlib.pyplot as plt\n",
    "from scipy import stats\n",
    "import os\n",
    "from pprint import pprint\n",
    "from math import sqrt\n",
    "import networkx as nx\n",
    "matplotlib.rcParams['figure.figsize'] = [10, 10]"
   ]
  },
  {
   "cell_type": "code",
   "execution_count": 2,
   "id": "b323986a",
   "metadata": {
    "tags": []
   },
   "outputs": [],
   "source": [
    "# wczytanie danych oraz oddzielenie zmiennej objaśnianej\n",
    "data = pd.read_csv(\"./data/combined2.csv\")\n",
    "y = data.iloc[:,-1].to_frame()\n",
    "data.drop(\"supply\", axis = 1, inplace=True)\n",
    "data.drop(\"date\", axis = 1, inplace=True)"
   ]
  },
  {
   "cell_type": "code",
   "execution_count": 3,
   "id": "68c99a5f-d3a7-4970-88fd-90233a73cd70",
   "metadata": {},
   "outputs": [],
   "source": [
    "# ustawienie parametrów rozkładów\n",
    "alpha = 0.05\n",
    "T = stats.t.ppf(0.95, 29)\n",
    "n = len(data)"
   ]
  },
  {
   "cell_type": "markdown",
   "id": "9fd40c66-661f-4eca-b03a-905ef7b12d40",
   "metadata": {},
   "source": [
    "## Wykluczanie quasi-stałych"
   ]
  },
  {
   "cell_type": "markdown",
   "id": "97b659a3-a739-4807-aec4-b046e9337f12",
   "metadata": {},
   "source": [
    "Obliczymy i wypiszemy współczynnik zmienności dla każdej z kolumn, by wyeliminować mało zmienne wielkości. Jako próg przyjmujemy 0.15."
   ]
  },
  {
   "cell_type": "code",
   "execution_count": 4,
   "id": "a8cec991-aa90-4cbd-b3e5-b1d6f220e2ec",
   "metadata": {},
   "outputs": [
    {
     "name": "stdout",
     "output_type": "stream",
     "text": [
      "{'brent': 0.32545431651351997,\n",
      " 'cooling': 1.79312019149232,\n",
      " 'disp_income': 1.127635162297683,\n",
      " 'dubai': 0.32203341381815503,\n",
      " 'electricity_hh': 0.0534096571026993,\n",
      " 'electricity_nhh': 0.0550057456077117,\n",
      " 'gas_hh': 0.065832865633243,\n",
      " 'gas_nhh': 0.1056683805709607,\n",
      " 'gdp': 0.12602860337161806,\n",
      " 'heating': 0.7507999634356444}\n"
     ]
    }
   ],
   "source": [
    "Vs = dict()\n",
    "for col in data.iloc[:,0:]:\n",
    "    # Dla kazdej z kolumn (zmiennych) zapisujemy wspolczynnik zmiennosci obliczany:\n",
    "    # Vs(dla i-tej kolumny) = odchylenie standard.(i-tej kolumny) / średnia(i-tej kolumny)\n",
    "    Vs[col] = np.sqrt(np.sum((data[col]-np.mean(data[col]))**2)/n)/np.mean(data[col])\n",
    "pprint(Vs)"
   ]
  },
  {
   "cell_type": "code",
   "execution_count": 5,
   "id": "024c913d-667f-4fbb-897e-fd6dcfb32cf5",
   "metadata": {},
   "outputs": [
    {
     "data": {
      "text/html": [
       "<div>\n",
       "<style scoped>\n",
       "    .dataframe tbody tr th:only-of-type {\n",
       "        vertical-align: middle;\n",
       "    }\n",
       "\n",
       "    .dataframe tbody tr th {\n",
       "        vertical-align: top;\n",
       "    }\n",
       "\n",
       "    .dataframe thead th {\n",
       "        text-align: right;\n",
       "    }\n",
       "</style>\n",
       "<table border=\"1\" class=\"dataframe\">\n",
       "  <thead>\n",
       "    <tr style=\"text-align: right;\">\n",
       "      <th></th>\n",
       "      <th>cooling</th>\n",
       "      <th>heating</th>\n",
       "      <th>brent</th>\n",
       "      <th>dubai</th>\n",
       "      <th>disp_income</th>\n",
       "    </tr>\n",
       "  </thead>\n",
       "  <tbody>\n",
       "    <tr>\n",
       "      <th>0</th>\n",
       "      <td>0.00</td>\n",
       "      <td>1420.97</td>\n",
       "      <td>96.936667</td>\n",
       "      <td>91.109503</td>\n",
       "      <td>6.630723</td>\n",
       "    </tr>\n",
       "    <tr>\n",
       "      <th>1</th>\n",
       "      <td>4.26</td>\n",
       "      <td>361.62</td>\n",
       "      <td>121.396667</td>\n",
       "      <td>116.668297</td>\n",
       "      <td>6.630723</td>\n",
       "    </tr>\n",
       "    <tr>\n",
       "      <th>2</th>\n",
       "      <td>11.28</td>\n",
       "      <td>162.79</td>\n",
       "      <td>114.396667</td>\n",
       "      <td>113.468427</td>\n",
       "      <td>6.630723</td>\n",
       "    </tr>\n",
       "    <tr>\n",
       "      <th>3</th>\n",
       "      <td>0.00</td>\n",
       "      <td>1099.30</td>\n",
       "      <td>54.660000</td>\n",
       "      <td>53.603920</td>\n",
       "      <td>6.630723</td>\n",
       "    </tr>\n",
       "    <tr>\n",
       "      <th>4</th>\n",
       "      <td>0.00</td>\n",
       "      <td>1613.69</td>\n",
       "      <td>44.433333</td>\n",
       "      <td>44.439939</td>\n",
       "      <td>1.611855</td>\n",
       "    </tr>\n",
       "    <tr>\n",
       "      <th>5</th>\n",
       "      <td>0.64</td>\n",
       "      <td>304.47</td>\n",
       "      <td>58.696667</td>\n",
       "      <td>58.954935</td>\n",
       "      <td>1.611855</td>\n",
       "    </tr>\n",
       "    <tr>\n",
       "      <th>6</th>\n",
       "      <td>22.50</td>\n",
       "      <td>48.02</td>\n",
       "      <td>68.200000</td>\n",
       "      <td>68.067344</td>\n",
       "      <td>1.611855</td>\n",
       "    </tr>\n",
       "    <tr>\n",
       "      <th>7</th>\n",
       "      <td>0.00</td>\n",
       "      <td>1216.38</td>\n",
       "      <td>74.630000</td>\n",
       "      <td>75.455738</td>\n",
       "      <td>1.611855</td>\n",
       "    </tr>\n",
       "    <tr>\n",
       "      <th>8</th>\n",
       "      <td>0.00</td>\n",
       "      <td>1623.49</td>\n",
       "      <td>76.250000</td>\n",
       "      <td>75.878379</td>\n",
       "      <td>2.279022</td>\n",
       "    </tr>\n",
       "    <tr>\n",
       "      <th>9</th>\n",
       "      <td>7.70</td>\n",
       "      <td>379.14</td>\n",
       "      <td>78.510000</td>\n",
       "      <td>77.862424</td>\n",
       "      <td>2.279022</td>\n",
       "    </tr>\n",
       "    <tr>\n",
       "      <th>10</th>\n",
       "      <td>38.06</td>\n",
       "      <td>154.81</td>\n",
       "      <td>76.820000</td>\n",
       "      <td>74.094545</td>\n",
       "      <td>2.279022</td>\n",
       "    </tr>\n",
       "    <tr>\n",
       "      <th>11</th>\n",
       "      <td>0.00</td>\n",
       "      <td>1333.91</td>\n",
       "      <td>86.466667</td>\n",
       "      <td>84.422359</td>\n",
       "      <td>2.279022</td>\n",
       "    </tr>\n",
       "    <tr>\n",
       "      <th>12</th>\n",
       "      <td>0.00</td>\n",
       "      <td>1576.73</td>\n",
       "      <td>104.960000</td>\n",
       "      <td>100.213309</td>\n",
       "      <td>-3.190861</td>\n",
       "    </tr>\n",
       "    <tr>\n",
       "      <th>13</th>\n",
       "      <td>0.45</td>\n",
       "      <td>327.93</td>\n",
       "      <td>117.360000</td>\n",
       "      <td>110.707237</td>\n",
       "      <td>-3.190861</td>\n",
       "    </tr>\n",
       "    <tr>\n",
       "      <th>14</th>\n",
       "      <td>32.99</td>\n",
       "      <td>64.59</td>\n",
       "      <td>113.340000</td>\n",
       "      <td>106.982297</td>\n",
       "      <td>-3.190861</td>\n",
       "    </tr>\n",
       "    <tr>\n",
       "      <th>15</th>\n",
       "      <td>0.00</td>\n",
       "      <td>1274.86</td>\n",
       "      <td>109.396667</td>\n",
       "      <td>106.203247</td>\n",
       "      <td>-3.190861</td>\n",
       "    </tr>\n",
       "    <tr>\n",
       "      <th>16</th>\n",
       "      <td>0.00</td>\n",
       "      <td>1645.23</td>\n",
       "      <td>118.490000</td>\n",
       "      <td>115.986306</td>\n",
       "      <td>-0.450359</td>\n",
       "    </tr>\n",
       "    <tr>\n",
       "      <th>17</th>\n",
       "      <td>13.91</td>\n",
       "      <td>332.06</td>\n",
       "      <td>108.416667</td>\n",
       "      <td>106.352995</td>\n",
       "      <td>-0.450359</td>\n",
       "    </tr>\n",
       "    <tr>\n",
       "      <th>18</th>\n",
       "      <td>66.96</td>\n",
       "      <td>88.48</td>\n",
       "      <td>109.613333</td>\n",
       "      <td>106.191790</td>\n",
       "      <td>-0.450359</td>\n",
       "    </tr>\n",
       "    <tr>\n",
       "      <th>19</th>\n",
       "      <td>0.00</td>\n",
       "      <td>1230.59</td>\n",
       "      <td>110.086667</td>\n",
       "      <td>107.146856</td>\n",
       "      <td>-0.450359</td>\n",
       "    </tr>\n",
       "    <tr>\n",
       "      <th>20</th>\n",
       "      <td>0.00</td>\n",
       "      <td>1639.11</td>\n",
       "      <td>112.493333</td>\n",
       "      <td>108.082141</td>\n",
       "      <td>-0.359642</td>\n",
       "    </tr>\n",
       "    <tr>\n",
       "      <th>21</th>\n",
       "      <td>17.96</td>\n",
       "      <td>351.84</td>\n",
       "      <td>102.576667</td>\n",
       "      <td>100.762998</td>\n",
       "      <td>-0.359642</td>\n",
       "    </tr>\n",
       "    <tr>\n",
       "      <th>22</th>\n",
       "      <td>43.70</td>\n",
       "      <td>140.28</td>\n",
       "      <td>110.270000</td>\n",
       "      <td>106.143827</td>\n",
       "      <td>-0.359642</td>\n",
       "    </tr>\n",
       "    <tr>\n",
       "      <th>23</th>\n",
       "      <td>0.00</td>\n",
       "      <td>1106.29</td>\n",
       "      <td>109.210000</td>\n",
       "      <td>106.730446</td>\n",
       "      <td>-0.359642</td>\n",
       "    </tr>\n",
       "    <tr>\n",
       "      <th>24</th>\n",
       "      <td>0.00</td>\n",
       "      <td>1228.66</td>\n",
       "      <td>108.166667</td>\n",
       "      <td>104.426740</td>\n",
       "      <td>2.099628</td>\n",
       "    </tr>\n",
       "    <tr>\n",
       "      <th>25</th>\n",
       "      <td>3.82</td>\n",
       "      <td>352.77</td>\n",
       "      <td>109.700000</td>\n",
       "      <td>106.099812</td>\n",
       "      <td>2.099628</td>\n",
       "    </tr>\n",
       "    <tr>\n",
       "      <th>26</th>\n",
       "      <td>16.08</td>\n",
       "      <td>92.14</td>\n",
       "      <td>101.823333</td>\n",
       "      <td>101.515736</td>\n",
       "      <td>2.099628</td>\n",
       "    </tr>\n",
       "    <tr>\n",
       "      <th>27</th>\n",
       "      <td>0.00</td>\n",
       "      <td>1039.60</td>\n",
       "      <td>76.403333</td>\n",
       "      <td>74.614109</td>\n",
       "      <td>2.099628</td>\n",
       "    </tr>\n",
       "    <tr>\n",
       "      <th>28</th>\n",
       "      <td>0.00</td>\n",
       "      <td>1427.80</td>\n",
       "      <td>53.916667</td>\n",
       "      <td>52.464697</td>\n",
       "      <td>5.255488</td>\n",
       "    </tr>\n",
       "    <tr>\n",
       "      <th>29</th>\n",
       "      <td>1.62</td>\n",
       "      <td>410.95</td>\n",
       "      <td>61.693333</td>\n",
       "      <td>61.366284</td>\n",
       "      <td>5.255488</td>\n",
       "    </tr>\n",
       "    <tr>\n",
       "      <th>30</th>\n",
       "      <td>116.05</td>\n",
       "      <td>87.02</td>\n",
       "      <td>50.233333</td>\n",
       "      <td>49.904655</td>\n",
       "      <td>5.255488</td>\n",
       "    </tr>\n",
       "    <tr>\n",
       "      <th>31</th>\n",
       "      <td>0.00</td>\n",
       "      <td>1133.18</td>\n",
       "      <td>43.570000</td>\n",
       "      <td>41.192587</td>\n",
       "      <td>5.255488</td>\n",
       "    </tr>\n",
       "    <tr>\n",
       "      <th>32</th>\n",
       "      <td>0.00</td>\n",
       "      <td>1426.16</td>\n",
       "      <td>33.696667</td>\n",
       "      <td>30.678157</td>\n",
       "      <td>3.080399</td>\n",
       "    </tr>\n",
       "    <tr>\n",
       "      <th>33</th>\n",
       "      <td>11.72</td>\n",
       "      <td>345.35</td>\n",
       "      <td>45.523333</td>\n",
       "      <td>42.945570</td>\n",
       "      <td>3.080399</td>\n",
       "    </tr>\n",
       "    <tr>\n",
       "      <th>34</th>\n",
       "      <td>15.36</td>\n",
       "      <td>78.42</td>\n",
       "      <td>45.786667</td>\n",
       "      <td>43.387483</td>\n",
       "      <td>3.080399</td>\n",
       "    </tr>\n",
       "    <tr>\n",
       "      <th>35</th>\n",
       "      <td>0.00</td>\n",
       "      <td>1326.44</td>\n",
       "      <td>49.186667</td>\n",
       "      <td>47.933687</td>\n",
       "      <td>3.080399</td>\n",
       "    </tr>\n",
       "    <tr>\n",
       "      <th>36</th>\n",
       "      <td>0.00</td>\n",
       "      <td>1582.98</td>\n",
       "      <td>53.680000</td>\n",
       "      <td>52.923298</td>\n",
       "      <td>3.050089</td>\n",
       "    </tr>\n",
       "    <tr>\n",
       "      <th>37</th>\n",
       "      <td>7.23</td>\n",
       "      <td>375.60</td>\n",
       "      <td>49.670000</td>\n",
       "      <td>49.696222</td>\n",
       "      <td>3.050089</td>\n",
       "    </tr>\n",
       "    <tr>\n",
       "      <th>38</th>\n",
       "      <td>52.64</td>\n",
       "      <td>126.61</td>\n",
       "      <td>52.110000</td>\n",
       "      <td>50.639952</td>\n",
       "      <td>3.050089</td>\n",
       "    </tr>\n",
       "    <tr>\n",
       "      <th>39</th>\n",
       "      <td>0.00</td>\n",
       "      <td>1204.75</td>\n",
       "      <td>61.530000</td>\n",
       "      <td>59.206241</td>\n",
       "      <td>3.050089</td>\n",
       "    </tr>\n",
       "    <tr>\n",
       "      <th>40</th>\n",
       "      <td>0.00</td>\n",
       "      <td>1584.55</td>\n",
       "      <td>66.806667</td>\n",
       "      <td>63.982366</td>\n",
       "      <td>6.624187</td>\n",
       "    </tr>\n",
       "    <tr>\n",
       "      <th>41</th>\n",
       "      <td>2.42</td>\n",
       "      <td>162.39</td>\n",
       "      <td>74.500000</td>\n",
       "      <td>71.726743</td>\n",
       "      <td>6.624187</td>\n",
       "    </tr>\n",
       "    <tr>\n",
       "      <th>42</th>\n",
       "      <td>50.64</td>\n",
       "      <td>81.61</td>\n",
       "      <td>75.223333</td>\n",
       "      <td>73.933799</td>\n",
       "      <td>6.624187</td>\n",
       "    </tr>\n",
       "    <tr>\n",
       "      <th>43</th>\n",
       "      <td>0.00</td>\n",
       "      <td>1095.28</td>\n",
       "      <td>67.713333</td>\n",
       "      <td>66.876957</td>\n",
       "      <td>6.624187</td>\n",
       "    </tr>\n",
       "    <tr>\n",
       "      <th>44</th>\n",
       "      <td>0.00</td>\n",
       "      <td>1424.36</td>\n",
       "      <td>63.170000</td>\n",
       "      <td>63.221413</td>\n",
       "      <td>2.957368</td>\n",
       "    </tr>\n",
       "    <tr>\n",
       "      <th>45</th>\n",
       "      <td>23.78</td>\n",
       "      <td>375.38</td>\n",
       "      <td>68.923333</td>\n",
       "      <td>67.075714</td>\n",
       "      <td>2.957368</td>\n",
       "    </tr>\n",
       "    <tr>\n",
       "      <th>46</th>\n",
       "      <td>41.31</td>\n",
       "      <td>92.75</td>\n",
       "      <td>61.930000</td>\n",
       "      <td>60.815977</td>\n",
       "      <td>2.957368</td>\n",
       "    </tr>\n",
       "    <tr>\n",
       "      <th>47</th>\n",
       "      <td>0.00</td>\n",
       "      <td>1006.56</td>\n",
       "      <td>63.410000</td>\n",
       "      <td>61.473805</td>\n",
       "      <td>2.957368</td>\n",
       "    </tr>\n",
       "  </tbody>\n",
       "</table>\n",
       "</div>"
      ],
      "text/plain": [
       "    cooling  heating       brent       dubai  disp_income\n",
       "0      0.00  1420.97   96.936667   91.109503     6.630723\n",
       "1      4.26   361.62  121.396667  116.668297     6.630723\n",
       "2     11.28   162.79  114.396667  113.468427     6.630723\n",
       "3      0.00  1099.30   54.660000   53.603920     6.630723\n",
       "4      0.00  1613.69   44.433333   44.439939     1.611855\n",
       "5      0.64   304.47   58.696667   58.954935     1.611855\n",
       "6     22.50    48.02   68.200000   68.067344     1.611855\n",
       "7      0.00  1216.38   74.630000   75.455738     1.611855\n",
       "8      0.00  1623.49   76.250000   75.878379     2.279022\n",
       "9      7.70   379.14   78.510000   77.862424     2.279022\n",
       "10    38.06   154.81   76.820000   74.094545     2.279022\n",
       "11     0.00  1333.91   86.466667   84.422359     2.279022\n",
       "12     0.00  1576.73  104.960000  100.213309    -3.190861\n",
       "13     0.45   327.93  117.360000  110.707237    -3.190861\n",
       "14    32.99    64.59  113.340000  106.982297    -3.190861\n",
       "15     0.00  1274.86  109.396667  106.203247    -3.190861\n",
       "16     0.00  1645.23  118.490000  115.986306    -0.450359\n",
       "17    13.91   332.06  108.416667  106.352995    -0.450359\n",
       "18    66.96    88.48  109.613333  106.191790    -0.450359\n",
       "19     0.00  1230.59  110.086667  107.146856    -0.450359\n",
       "20     0.00  1639.11  112.493333  108.082141    -0.359642\n",
       "21    17.96   351.84  102.576667  100.762998    -0.359642\n",
       "22    43.70   140.28  110.270000  106.143827    -0.359642\n",
       "23     0.00  1106.29  109.210000  106.730446    -0.359642\n",
       "24     0.00  1228.66  108.166667  104.426740     2.099628\n",
       "25     3.82   352.77  109.700000  106.099812     2.099628\n",
       "26    16.08    92.14  101.823333  101.515736     2.099628\n",
       "27     0.00  1039.60   76.403333   74.614109     2.099628\n",
       "28     0.00  1427.80   53.916667   52.464697     5.255488\n",
       "29     1.62   410.95   61.693333   61.366284     5.255488\n",
       "30   116.05    87.02   50.233333   49.904655     5.255488\n",
       "31     0.00  1133.18   43.570000   41.192587     5.255488\n",
       "32     0.00  1426.16   33.696667   30.678157     3.080399\n",
       "33    11.72   345.35   45.523333   42.945570     3.080399\n",
       "34    15.36    78.42   45.786667   43.387483     3.080399\n",
       "35     0.00  1326.44   49.186667   47.933687     3.080399\n",
       "36     0.00  1582.98   53.680000   52.923298     3.050089\n",
       "37     7.23   375.60   49.670000   49.696222     3.050089\n",
       "38    52.64   126.61   52.110000   50.639952     3.050089\n",
       "39     0.00  1204.75   61.530000   59.206241     3.050089\n",
       "40     0.00  1584.55   66.806667   63.982366     6.624187\n",
       "41     2.42   162.39   74.500000   71.726743     6.624187\n",
       "42    50.64    81.61   75.223333   73.933799     6.624187\n",
       "43     0.00  1095.28   67.713333   66.876957     6.624187\n",
       "44     0.00  1424.36   63.170000   63.221413     2.957368\n",
       "45    23.78   375.38   68.923333   67.075714     2.957368\n",
       "46    41.31    92.75   61.930000   60.815977     2.957368\n",
       "47     0.00  1006.56   63.410000   61.473805     2.957368"
      ]
     },
     "execution_count": 5,
     "metadata": {},
     "output_type": "execute_result"
    }
   ],
   "source": [
    "# Usuwamy kazda z kolumn, dla której wspolczynnik zmiennosci ponizej progu\n",
    "data.drop([k for k, v in Vs.items() if v < 0.15], axis = 1, inplace = True)\n",
    "data"
   ]
  },
  {
   "cell_type": "markdown",
   "id": "61f3f0fc-f868-47bb-8c20-bd7bf076cb34",
   "metadata": {},
   "source": [
    "## Obliczanie korelacji"
   ]
  },
  {
   "cell_type": "markdown",
   "id": "5b5f97a4-78eb-4b8d-a324-07823d7bba06",
   "metadata": {},
   "source": [
    "Zanim przejdziemy do głównego etapu doboru zmiennych, zbadamy jeszcze korelacje między zmiennnymi. Najpierw wyznaczymy wektor korelacji między każdą ze zmiennych objaśniających i zmienną objaśnianą. Następnie pokażemy macierz wzajemnych korelacji między zmiennymi objaśniającymi. Informacje te mogą być przydatne w głównej fazie doboru zmiennych do modelu."
   ]
  },
  {
   "cell_type": "code",
   "execution_count": 6,
   "id": "dc6206bd-d33d-46e7-b483-d74281e210fa",
   "metadata": {},
   "outputs": [],
   "source": [
    "data_with_y = data.copy()\n",
    "data_with_y['electricity_hh'] = y.values"
   ]
  },
  {
   "cell_type": "code",
   "execution_count": 7,
   "id": "daffb26c-1915-487c-a04b-8a5b5f5729e3",
   "metadata": {},
   "outputs": [],
   "source": [
    "# Wywolujemy funkcje obliczajaca wzajemne korelacje miedzy wszystkimi zmiennymi\n",
    "corr_mat = data_with_y.corr()\n",
    "R_v = corr_mat.iloc[:-1, -1]\n",
    "R_mat = corr_mat.iloc[:-1, :-1]"
   ]
  },
  {
   "cell_type": "code",
   "execution_count": 8,
   "id": "43d20d8d-a0b9-43c6-a0c3-bff3760d97bb",
   "metadata": {},
   "outputs": [
    {
     "data": {
      "text/plain": [
       "cooling       -0.409859\n",
       "heating        0.796569\n",
       "brent          0.167408\n",
       "dubai          0.171249\n",
       "disp_income   -0.061210\n",
       "Name: electricity_hh, dtype: float64"
      ]
     },
     "execution_count": 8,
     "metadata": {},
     "output_type": "execute_result"
    }
   ],
   "source": [
    "# Wektor korelacji zmienna objasniana - zmienne objasniajace\n",
    "R_v"
   ]
  },
  {
   "cell_type": "code",
   "execution_count": 9,
   "id": "a3aad01a-7b80-491d-96b0-4aa3dc093c61",
   "metadata": {},
   "outputs": [
    {
     "data": {
      "text/html": [
       "<div>\n",
       "<style scoped>\n",
       "    .dataframe tbody tr th:only-of-type {\n",
       "        vertical-align: middle;\n",
       "    }\n",
       "\n",
       "    .dataframe tbody tr th {\n",
       "        vertical-align: top;\n",
       "    }\n",
       "\n",
       "    .dataframe thead th {\n",
       "        text-align: right;\n",
       "    }\n",
       "</style>\n",
       "<table border=\"1\" class=\"dataframe\">\n",
       "  <thead>\n",
       "    <tr style=\"text-align: right;\">\n",
       "      <th></th>\n",
       "      <th>cooling</th>\n",
       "      <th>heating</th>\n",
       "      <th>brent</th>\n",
       "      <th>dubai</th>\n",
       "      <th>disp_income</th>\n",
       "    </tr>\n",
       "  </thead>\n",
       "  <tbody>\n",
       "    <tr>\n",
       "      <th>cooling</th>\n",
       "      <td>1.000000</td>\n",
       "      <td>-0.610182</td>\n",
       "      <td>-0.043749</td>\n",
       "      <td>-0.041843</td>\n",
       "      <td>0.020799</td>\n",
       "    </tr>\n",
       "    <tr>\n",
       "      <th>heating</th>\n",
       "      <td>-0.610182</td>\n",
       "      <td>1.000000</td>\n",
       "      <td>-0.082624</td>\n",
       "      <td>-0.086824</td>\n",
       "      <td>-0.035670</td>\n",
       "    </tr>\n",
       "    <tr>\n",
       "      <th>brent</th>\n",
       "      <td>-0.043749</td>\n",
       "      <td>-0.082624</td>\n",
       "      <td>1.000000</td>\n",
       "      <td>0.998401</td>\n",
       "      <td>-0.498584</td>\n",
       "    </tr>\n",
       "    <tr>\n",
       "      <th>dubai</th>\n",
       "      <td>-0.041843</td>\n",
       "      <td>-0.086824</td>\n",
       "      <td>0.998401</td>\n",
       "      <td>1.000000</td>\n",
       "      <td>-0.492874</td>\n",
       "    </tr>\n",
       "    <tr>\n",
       "      <th>disp_income</th>\n",
       "      <td>0.020799</td>\n",
       "      <td>-0.035670</td>\n",
       "      <td>-0.498584</td>\n",
       "      <td>-0.492874</td>\n",
       "      <td>1.000000</td>\n",
       "    </tr>\n",
       "  </tbody>\n",
       "</table>\n",
       "</div>"
      ],
      "text/plain": [
       "              cooling   heating     brent     dubai  disp_income\n",
       "cooling      1.000000 -0.610182 -0.043749 -0.041843     0.020799\n",
       "heating     -0.610182  1.000000 -0.082624 -0.086824    -0.035670\n",
       "brent       -0.043749 -0.082624  1.000000  0.998401    -0.498584\n",
       "dubai       -0.041843 -0.086824  0.998401  1.000000    -0.492874\n",
       "disp_income  0.020799 -0.035670 -0.498584 -0.492874     1.000000"
      ]
     },
     "execution_count": 9,
     "metadata": {},
     "output_type": "execute_result"
    }
   ],
   "source": [
    "# Macierz wzajemnych korelacji miedzy zmiennymi objasniajacymi\n",
    "R_mat"
   ]
  },
  {
   "cell_type": "markdown",
   "id": "f2b28b4d-93d6-43c8-aed3-8200ddd3ed56",
   "metadata": {},
   "source": [
    "Widzimy, że zmienna objaśniana - zużycie prądu - jest najmocniej skorelowana z liczbą stopniodni grzewczych. Nie jest to zaskakujące - Słowacja jest krajem o klimacie, w którym występują mroźne zimy, a potrzeba ciepłego miejsca zamieszkania jest potrzebą podstawową człowieka, z drugiej strony ogrzewanie zużywa energię. Najsłabsza korelacja występuje między zmienną objaśnianą a wzmianą dochodu rozporządzalnego, co każe przemyśleć, czy faktycznie zużycie energii istotnie zależy od posiadanych środków finansowych.\n",
    "\n",
    "Jeśli chodzi o macierz korelacji, liczba dni chłodniczych i grzewczych jest mocno ujemnie skorelowana - co w ogóle nie jest zaskakujące. Można zauważyć, że korelacja między ceną ropy Brent i ceną ropy Dubai jest prawie stuprocentowa i dodatnia - w dobie globalizacji ceny surowców podążają za trendami wspólnymi dla wielu regionów. Oznacza to, że w modelu niemal na pewno znajdzie się tylko jedna ze zmiennych oznaczających cenę ropy. Co ciekawe, cena ropy jest istotnie ujemnie skorelowana ze zmianą dochodu rozporządzalnego. Pozostałe współczynniki korelacji mają raczej niewielkie wartości bezwzględne - raczej nie są istotne.\n",
    "\n",
    "Kolejnym krokiem jest przygotowanie macierzy do procedury doboru zmiennych - korzystając z wcześniej wyznaczonego progu, zamieniamy korelacje nieistotne statystycznie na zera."
   ]
  },
  {
   "cell_type": "code",
   "execution_count": 10,
   "id": "05919f92-cb5c-4704-9ddf-1f6608f5e21e",
   "metadata": {},
   "outputs": [
    {
     "name": "stdout",
     "output_type": "stream",
     "text": [
      "r_min = 0.2430127215814742\n"
     ]
    },
    {
     "data": {
      "text/html": [
       "<div>\n",
       "<style scoped>\n",
       "    .dataframe tbody tr th:only-of-type {\n",
       "        vertical-align: middle;\n",
       "    }\n",
       "\n",
       "    .dataframe tbody tr th {\n",
       "        vertical-align: top;\n",
       "    }\n",
       "\n",
       "    .dataframe thead th {\n",
       "        text-align: right;\n",
       "    }\n",
       "</style>\n",
       "<table border=\"1\" class=\"dataframe\">\n",
       "  <thead>\n",
       "    <tr style=\"text-align: right;\">\n",
       "      <th></th>\n",
       "      <th>cooling</th>\n",
       "      <th>heating</th>\n",
       "      <th>brent</th>\n",
       "      <th>dubai</th>\n",
       "      <th>disp_income</th>\n",
       "    </tr>\n",
       "  </thead>\n",
       "  <tbody>\n",
       "    <tr>\n",
       "      <th>cooling</th>\n",
       "      <td>1.000000</td>\n",
       "      <td>-0.610182</td>\n",
       "      <td>0.000000</td>\n",
       "      <td>0.000000</td>\n",
       "      <td>0.000000</td>\n",
       "    </tr>\n",
       "    <tr>\n",
       "      <th>heating</th>\n",
       "      <td>-0.610182</td>\n",
       "      <td>1.000000</td>\n",
       "      <td>0.000000</td>\n",
       "      <td>0.000000</td>\n",
       "      <td>0.000000</td>\n",
       "    </tr>\n",
       "    <tr>\n",
       "      <th>brent</th>\n",
       "      <td>0.000000</td>\n",
       "      <td>0.000000</td>\n",
       "      <td>1.000000</td>\n",
       "      <td>0.998401</td>\n",
       "      <td>-0.498584</td>\n",
       "    </tr>\n",
       "    <tr>\n",
       "      <th>dubai</th>\n",
       "      <td>0.000000</td>\n",
       "      <td>0.000000</td>\n",
       "      <td>0.998401</td>\n",
       "      <td>1.000000</td>\n",
       "      <td>-0.492874</td>\n",
       "    </tr>\n",
       "    <tr>\n",
       "      <th>disp_income</th>\n",
       "      <td>0.000000</td>\n",
       "      <td>0.000000</td>\n",
       "      <td>-0.498584</td>\n",
       "      <td>-0.492874</td>\n",
       "      <td>1.000000</td>\n",
       "    </tr>\n",
       "  </tbody>\n",
       "</table>\n",
       "</div>"
      ],
      "text/plain": [
       "              cooling   heating     brent     dubai  disp_income\n",
       "cooling      1.000000 -0.610182  0.000000  0.000000     0.000000\n",
       "heating     -0.610182  1.000000  0.000000  0.000000     0.000000\n",
       "brent        0.000000  0.000000  1.000000  0.998401    -0.498584\n",
       "dubai        0.000000  0.000000  0.998401  1.000000    -0.492874\n",
       "disp_income  0.000000  0.000000 -0.498584 -0.492874     1.000000"
      ]
     },
     "execution_count": 10,
     "metadata": {},
     "output_type": "execute_result"
    }
   ],
   "source": [
    "r_min = sqrt(T*T/(T*T+n-2))\n",
    "print(f\"{r_min = }\")\n",
    "R_mat[abs(R_mat) < r_min] = 0\n",
    "R_mat"
   ]
  },
  {
   "cell_type": "markdown",
   "id": "3ede841c-5b6e-4fc2-a78e-56a5812d84f0",
   "metadata": {},
   "source": [
    "# Dobór zmiennych"
   ]
  },
  {
   "cell_type": "markdown",
   "id": "78e2aadb-b32b-41aa-937b-9ee48dbe0567",
   "metadata": {},
   "source": [
    "Przechodzimy do procedury doboru zmiennych objaśniających zwaną metodą grafów. Aby ją zastosować, wystarczy zbudować graf, gdzie wierzchołki reprezentują zmienne, a krawędź występuje, gdy między zmiennymi wykryta została istotna statystycznie korelacja (skorzystamy oczywiście z otrzymanej wyżej macierzy).\n",
    "\n",
    "Do modelu wybieramy zmienne w następujący sposób:\n",
    "- jeśli są wierzchołki osamotnione (nie połączone z żadnym innym), to wybieramy je do modelu\n",
    "- dla każdej składowej spójnej (podgrafu gdzie są drogi między wierzchołkami) bierzemy do modelu zmienną, która ma największy stopień (najwięcej połączeń z innymi zmiennymi\n",
    "- jeśli dla pografu nie ma wierzchołka z największą liczbą połączeń, to bierzemy wierzchołek odpowiadający zmiennej najmocniej skorelowanej ze zmienną objaśnianą"
   ]
  },
  {
   "cell_type": "code",
   "execution_count": 11,
   "id": "12ea4b11-b508-410b-82d6-3372cc4ab0d7",
   "metadata": {},
   "outputs": [
    {
     "data": {
      "image/png": "[encoded data removed]",
      "text/plain": [
       "<Figure size 432x288 with 1 Axes>"
      ]
     },
     "metadata": {},
     "output_type": "display_data"
    }
   ],
   "source": [
    "# Kopiujemy wyzej otrzymana macierz z istotnymi wspolczynnikami. Wartosci wspolczynnikow zamieniamy na jedynki,\n",
    "# a jedynki z glownej przekatnej zamieniamy na zera\n",
    "adj_mat = R_mat.copy()\n",
    "adj_mat[adj_mat != 0] = 1\n",
    "adj_mat = adj_mat.to_numpy()\n",
    "for i in range(adj_mat.shape[0]):\n",
    "    adj_mat[i, i] = 0\n",
    "\n",
    "# Tworzymy obiekt grafu i rysujemy go    \n",
    "G = nx.Graph(adj_mat)\n",
    "pos=nx.spring_layout(G)\n",
    "nx.draw(G, pos=pos)\n",
    "nx.draw_networkx_labels(G, pos=pos, labels = dict(zip(range(len(R_mat.columns)), list(R_mat.columns))))\n",
    "plt.show()"
   ]
  },
  {
   "cell_type": "markdown",
   "id": "a8ffaf5e-a60b-41e9-b11d-dada301e8792",
   "metadata": {},
   "source": [
    "Należy wybrać dwie zmienne:\n",
    "1. `heating`\n",
    "2. `dubai`"
   ]
  },
  {
   "cell_type": "code",
   "execution_count": 12,
   "id": "e2ed793a-5322-49cb-8838-97b11f71d432",
   "metadata": {},
   "outputs": [],
   "source": [
    "#data[\"heating2\"] = data[\"heating\"] ** 2\n",
    "data_final = data[[\"dubai\", \"heating\"]]"
   ]
  },
  {
   "cell_type": "markdown",
   "id": "85aa1bc1-0591-41df-ac73-0fdd04d6842d",
   "metadata": {},
   "source": [
    "# Estymacja współczynników modelu\n",
    "\n",
    "Mamy wyznaczone zmienne objaśniające, pora oszacować współczynniki. Wykorzystamy do tego metodę najmniejszym kwadratów (OLS - *Ordinary Least Squares*). W Pythonie implementację tej metody możemy znaleźć w bibliotece *statsmodels* (w naszym kodzie używamy dla niej krótszej nazwy *sm*).\n",
    "\n",
    "Tworzymy obiekt modelu, do którego wkładamy dane wejściowe - zmienne objaśniające i zmienną objaśnianą. Następnie uruchamiamy oszacowanie współczynników za pomocą metody *fit*. Wyniki możemy sprawdzić za pomocą metody *summary* - możemy tam znaleźć, oprócz otrzymanych współczynników, m. in. wartość R-kwadrat czy istotność statystyczną modelu.\n",
    "\n",
    "Na koniec narysujemy predykcję modelu w porównaniu z prawdziwymi wartościami zużycia prądu, by sprawdzić jego dokładność.\n",
    "\n",
    "Wykonamy dwie wersje modelu - bez składnika stałego (_constant_) oraz ze składnikiem stałym\n",
    "\n",
    "## Model bez składnika stałego"
   ]
  },
  {
   "cell_type": "code",
   "execution_count": 13,
   "id": "b93254df-ac0b-4162-95c7-0c26f3dc9d7e",
   "metadata": {},
   "outputs": [],
   "source": [
    "reg = sm.OLS(y, data_final).fit()"
   ]
  },
  {
   "cell_type": "code",
   "execution_count": 14,
   "id": "06cd75cc-4147-44c8-ba29-31f314bd1554",
   "metadata": {},
   "outputs": [
    {
     "data": {
      "text/html": [
       "<table class=\"simpletable\">\n",
       "<caption>OLS Regression Results</caption>\n",
       "<tr>\n",
       "  <th>Dep. Variable:</th>         <td>supply</td>      <th>  R-squared (uncentered):</th>      <td>   0.944</td>\n",
       "</tr>\n",
       "<tr>\n",
       "  <th>Model:</th>                   <td>OLS</td>       <th>  Adj. R-squared (uncentered):</th> <td>   0.942</td>\n",
       "</tr>\n",
       "<tr>\n",
       "  <th>Method:</th>             <td>Least Squares</td>  <th>  F-statistic:       </th>          <td>   390.3</td>\n",
       "</tr>\n",
       "<tr>\n",
       "  <th>Date:</th>             <td>Sat, 18 Jun 2022</td> <th>  Prob (F-statistic):</th>          <td>1.40e-29</td>\n",
       "</tr>\n",
       "<tr>\n",
       "  <th>Time:</th>                 <td>13:48:00</td>     <th>  Log-Likelihood:    </th>          <td> -369.70</td>\n",
       "</tr>\n",
       "<tr>\n",
       "  <th>No. Observations:</th>      <td>    48</td>      <th>  AIC:               </th>          <td>   743.4</td>\n",
       "</tr>\n",
       "<tr>\n",
       "  <th>Df Residuals:</th>          <td>    46</td>      <th>  BIC:               </th>          <td>   747.1</td>\n",
       "</tr>\n",
       "<tr>\n",
       "  <th>Df Model:</th>              <td>     2</td>      <th>                     </th>              <td> </td>   \n",
       "</tr>\n",
       "<tr>\n",
       "  <th>Covariance Type:</th>      <td>nonrobust</td>    <th>                     </th>              <td> </td>   \n",
       "</tr>\n",
       "</table>\n",
       "<table class=\"simpletable\">\n",
       "<tr>\n",
       "     <td></td>        <th>coef</th>     <th>std err</th>      <th>t</th>      <th>P>|t|</th>  <th>[0.025</th>    <th>0.975]</th>  \n",
       "</tr>\n",
       "<tr>\n",
       "  <th>dubai</th>   <td>   20.6624</td> <td>    1.457</td> <td>   14.184</td> <td> 0.000</td> <td>   17.730</td> <td>   23.595</td>\n",
       "</tr>\n",
       "<tr>\n",
       "  <th>heating</th> <td>    0.6634</td> <td>    0.121</td> <td>    5.482</td> <td> 0.000</td> <td>    0.420</td> <td>    0.907</td>\n",
       "</tr>\n",
       "</table>\n",
       "<table class=\"simpletable\">\n",
       "<tr>\n",
       "  <th>Omnibus:</th>       <td> 4.317</td> <th>  Durbin-Watson:     </th> <td>   0.509</td>\n",
       "</tr>\n",
       "<tr>\n",
       "  <th>Prob(Omnibus):</th> <td> 0.115</td> <th>  Jarque-Bera (JB):  </th> <td>   2.141</td>\n",
       "</tr>\n",
       "<tr>\n",
       "  <th>Skew:</th>          <td>-0.220</td> <th>  Prob(JB):          </th> <td>   0.343</td>\n",
       "</tr>\n",
       "<tr>\n",
       "  <th>Kurtosis:</th>      <td> 2.063</td> <th>  Cond. No.          </th> <td>    18.1</td>\n",
       "</tr>\n",
       "</table><br/><br/>Notes:<br/>[1] R² is computed without centering (uncentered) since the model does not contain a constant.<br/>[2] Standard Errors assume that the covariance matrix of the errors is correctly specified."
      ],
      "text/plain": [
       "<class 'statsmodels.iolib.summary.Summary'>\n",
       "\"\"\"\n",
       "                                 OLS Regression Results                                \n",
       "=======================================================================================\n",
       "Dep. Variable:                 supply   R-squared (uncentered):                   0.944\n",
       "Model:                            OLS   Adj. R-squared (uncentered):              0.942\n",
       "Method:                 Least Squares   F-statistic:                              390.3\n",
       "Date:                Sat, 18 Jun 2022   Prob (F-statistic):                    1.40e-29\n",
       "Time:                        13:48:00   Log-Likelihood:                         -369.70\n",
       "No. Observations:                  48   AIC:                                      743.4\n",
       "Df Residuals:                      46   BIC:                                      747.1\n",
       "Df Model:                           2                                                  \n",
       "Covariance Type:            nonrobust                                                  \n",
       "==============================================================================\n",
       "                 coef    std err          t      P>|t|      [0.025      0.975]\n",
       "------------------------------------------------------------------------------\n",
       "dubai         20.6624      1.457     14.184      0.000      17.730      23.595\n",
       "heating        0.6634      0.121      5.482      0.000       0.420       0.907\n",
       "==============================================================================\n",
       "Omnibus:                        4.317   Durbin-Watson:                   0.509\n",
       "Prob(Omnibus):                  0.115   Jarque-Bera (JB):                2.141\n",
       "Skew:                          -0.220   Prob(JB):                        0.343\n",
       "Kurtosis:                       2.063   Cond. No.                         18.1\n",
       "==============================================================================\n",
       "\n",
       "Notes:\n",
       "[1] R² is computed without centering (uncentered) since the model does not contain a constant.\n",
       "[2] Standard Errors assume that the covariance matrix of the errors is correctly specified.\n",
       "\"\"\""
      ]
     },
     "execution_count": 14,
     "metadata": {},
     "output_type": "execute_result"
    }
   ],
   "source": [
    "reg.summary()"
   ]
  },
  {
   "cell_type": "markdown",
   "id": "b904bd4f-4641-46ce-a1f5-87118617da31",
   "metadata": {},
   "source": [
    "**Otrzymana postać modelu:**\n",
    "\n",
    "_zużycie prądu_  =  _cena ropy Dubai_ * 20,6624  +  _liczba stopniodni grzewczych_ * 0,6634"
   ]
  },
  {
   "cell_type": "code",
   "execution_count": 15,
   "id": "76371016-6dc5-4c20-85ed-4ca1d67e07ad",
   "metadata": {},
   "outputs": [
    {
     "data": {
      "text/plain": [
       "<matplotlib.legend.Legend at 0x27821b2a610>"
      ]
     },
     "execution_count": 15,
     "metadata": {},
     "output_type": "execute_result"
    },
    {
     "data": {
      "image/png": "[encoded data removed]",
      "text/plain": [
       "<Figure size 432x288 with 1 Axes>"
      ]
     },
     "metadata": {
      "needs_background": "light"
     },
     "output_type": "display_data"
    }
   ],
   "source": [
    "plt.plot(y)\n",
    "plt.plot(reg.predict(data[[\"dubai\", \"heating\"]].to_numpy()))\n",
    "plt.legend([\"wartosci rzeczywiste\", \"wartosci z modelu\"])"
   ]
  },
  {
   "cell_type": "code",
   "execution_count": 16,
   "id": "37ace5b9-382d-406d-8a49-f7d44674ab31",
   "metadata": {},
   "outputs": [
    {
     "data": {
      "text/plain": [
       "116798471.26332879"
      ]
     },
     "execution_count": 16,
     "metadata": {},
     "output_type": "execute_result"
    }
   ],
   "source": [
    "reg.mse_model"
   ]
  },
  {
   "cell_type": "markdown",
   "id": "a7054f3d-4df0-4c73-82e0-f0a3bc3e8f5d",
   "metadata": {},
   "source": [
    "## Model ze składnikiem stałym"
   ]
  },
  {
   "cell_type": "code",
   "execution_count": 17,
   "id": "c291cc22-6a85-42dc-8961-33da70a97df3",
   "metadata": {},
   "outputs": [],
   "source": [
    "# Dodajemy kolumne stala do danych, by uwzglednic skladnik staly w modelu\n",
    "# wc - \"with const\"\n",
    "data_final_wc = sm.add_constant(data_final)"
   ]
  },
  {
   "cell_type": "code",
   "execution_count": 18,
   "id": "e7a4c156-e01d-4508-9498-35f3327d85d0",
   "metadata": {},
   "outputs": [],
   "source": [
    "reg_wc = sm.OLS(y, data_final_wc).fit()"
   ]
  },
  {
   "cell_type": "code",
   "execution_count": 19,
   "id": "0ba1c8e7-4676-460c-9777-5a9d3f126faa",
   "metadata": {},
   "outputs": [
    {
     "data": {
      "text/html": [
       "<table class=\"simpletable\">\n",
       "<caption>OLS Regression Results</caption>\n",
       "<tr>\n",
       "  <th>Dep. Variable:</th>         <td>supply</td>      <th>  R-squared:         </th> <td>   0.693</td>\n",
       "</tr>\n",
       "<tr>\n",
       "  <th>Model:</th>                   <td>OLS</td>       <th>  Adj. R-squared:    </th> <td>   0.679</td>\n",
       "</tr>\n",
       "<tr>\n",
       "  <th>Method:</th>             <td>Least Squares</td>  <th>  F-statistic:       </th> <td>   50.73</td>\n",
       "</tr>\n",
       "<tr>\n",
       "  <th>Date:</th>             <td>Sat, 18 Jun 2022</td> <th>  Prob (F-statistic):</th> <td>2.94e-12</td>\n",
       "</tr>\n",
       "<tr>\n",
       "  <th>Time:</th>                 <td>13:48:00</td>     <th>  Log-Likelihood:    </th> <td> -292.11</td>\n",
       "</tr>\n",
       "<tr>\n",
       "  <th>No. Observations:</th>      <td>    48</td>      <th>  AIC:               </th> <td>   590.2</td>\n",
       "</tr>\n",
       "<tr>\n",
       "  <th>Df Residuals:</th>          <td>    45</td>      <th>  BIC:               </th> <td>   595.8</td>\n",
       "</tr>\n",
       "<tr>\n",
       "  <th>Df Model:</th>              <td>     2</td>      <th>                     </th>     <td> </td>   \n",
       "</tr>\n",
       "<tr>\n",
       "  <th>Covariance Type:</th>      <td>nonrobust</td>    <th>                     </th>     <td> </td>   \n",
       "</tr>\n",
       "</table>\n",
       "<table class=\"simpletable\">\n",
       "<tr>\n",
       "     <td></td>        <th>coef</th>     <th>std err</th>      <th>t</th>      <th>P>|t|</th>  <th>[0.025</th>    <th>0.975]</th>  \n",
       "</tr>\n",
       "<tr>\n",
       "  <th>const</th>   <td> 1908.7485</td> <td>   57.654</td> <td>   33.107</td> <td> 0.000</td> <td> 1792.628</td> <td> 2024.869</td>\n",
       "</tr>\n",
       "<tr>\n",
       "  <th>dubai</th>   <td>    1.8653</td> <td>    0.639</td> <td>    2.921</td> <td> 0.005</td> <td>    0.579</td> <td>    3.152</td>\n",
       "</tr>\n",
       "<tr>\n",
       "  <th>heating</th> <td>    0.2670</td> <td>    0.027</td> <td>    9.857</td> <td> 0.000</td> <td>    0.212</td> <td>    0.322</td>\n",
       "</tr>\n",
       "</table>\n",
       "<table class=\"simpletable\">\n",
       "<tr>\n",
       "  <th>Omnibus:</th>       <td> 5.883</td> <th>  Durbin-Watson:     </th> <td>   1.095</td>\n",
       "</tr>\n",
       "<tr>\n",
       "  <th>Prob(Omnibus):</th> <td> 0.053</td> <th>  Jarque-Bera (JB):  </th> <td>   8.104</td>\n",
       "</tr>\n",
       "<tr>\n",
       "  <th>Skew:</th>          <td>-0.156</td> <th>  Prob(JB):          </th> <td>  0.0174</td>\n",
       "</tr>\n",
       "<tr>\n",
       "  <th>Kurtosis:</th>      <td> 4.989</td> <th>  Cond. No.          </th> <td>3.57e+03</td>\n",
       "</tr>\n",
       "</table><br/><br/>Notes:<br/>[1] Standard Errors assume that the covariance matrix of the errors is correctly specified.<br/>[2] The condition number is large, 3.57e+03. This might indicate that there are<br/>strong multicollinearity or other numerical problems."
      ],
      "text/plain": [
       "<class 'statsmodels.iolib.summary.Summary'>\n",
       "\"\"\"\n",
       "                            OLS Regression Results                            \n",
       "==============================================================================\n",
       "Dep. Variable:                 supply   R-squared:                       0.693\n",
       "Model:                            OLS   Adj. R-squared:                  0.679\n",
       "Method:                 Least Squares   F-statistic:                     50.73\n",
       "Date:                Sat, 18 Jun 2022   Prob (F-statistic):           2.94e-12\n",
       "Time:                        13:48:00   Log-Likelihood:                -292.11\n",
       "No. Observations:                  48   AIC:                             590.2\n",
       "Df Residuals:                      45   BIC:                             595.8\n",
       "Df Model:                           2                                         \n",
       "Covariance Type:            nonrobust                                         \n",
       "==============================================================================\n",
       "                 coef    std err          t      P>|t|      [0.025      0.975]\n",
       "------------------------------------------------------------------------------\n",
       "const       1908.7485     57.654     33.107      0.000    1792.628    2024.869\n",
       "dubai          1.8653      0.639      2.921      0.005       0.579       3.152\n",
       "heating        0.2670      0.027      9.857      0.000       0.212       0.322\n",
       "==============================================================================\n",
       "Omnibus:                        5.883   Durbin-Watson:                   1.095\n",
       "Prob(Omnibus):                  0.053   Jarque-Bera (JB):                8.104\n",
       "Skew:                          -0.156   Prob(JB):                       0.0174\n",
       "Kurtosis:                       4.989   Cond. No.                     3.57e+03\n",
       "==============================================================================\n",
       "\n",
       "Notes:\n",
       "[1] Standard Errors assume that the covariance matrix of the errors is correctly specified.\n",
       "[2] The condition number is large, 3.57e+03. This might indicate that there are\n",
       "strong multicollinearity or other numerical problems.\n",
       "\"\"\""
      ]
     },
     "execution_count": 19,
     "metadata": {},
     "output_type": "execute_result"
    }
   ],
   "source": [
    "reg_wc.summary()"
   ]
  },
  {
   "cell_type": "markdown",
   "id": "21bfc97f-b3cf-46c9-81da-bfa05fa04539",
   "metadata": {},
   "source": [
    "**Otrzymana postać modelu:**\n",
    "\n",
    "_zużycie prądu_  =  1908,7485  +  _cena ropy Dubai_ * 1,8653  +  _liczba stopniodni grzewczych_ * 0,2670"
   ]
  },
  {
   "cell_type": "code",
   "execution_count": 20,
   "id": "b4b09e1a-f9f5-4a43-8745-d331bc40e3bd",
   "metadata": {},
   "outputs": [
    {
     "data": {
      "text/plain": [
       "<matplotlib.legend.Legend at 0x27821bda0a0>"
      ]
     },
     "execution_count": 20,
     "metadata": {},
     "output_type": "execute_result"
    },
    {
     "data": {
      "image/png": "[encoded data removed]",
      "text/plain": [
       "<Figure size 432x288 with 1 Axes>"
      ]
     },
     "metadata": {
      "needs_background": "light"
     },
     "output_type": "display_data"
    }
   ],
   "source": [
    "plt.plot(y)\n",
    "plt.plot(reg_wc.predict(data_final_wc.to_numpy()))\n",
    "plt.legend([\"wartosci rzeczywiste\", \"wartosci z modelu\"])"
   ]
  },
  {
   "cell_type": "code",
   "execution_count": 21,
   "id": "f632a927-dee8-4acc-9fc9-874b712ab363",
   "metadata": {},
   "outputs": [
    {
     "data": {
      "text/plain": [
       "611951.6331828767"
      ]
     },
     "execution_count": 21,
     "metadata": {},
     "output_type": "execute_result"
    }
   ],
   "source": [
    "reg_wc.mse_model"
   ]
  }
 ],
 "metadata": {
  "kernelspec": {
   "display_name": "Python 3 (ipykernel)",
   "language": "python",
   "name": "python3"
  },
  "language_info": {
   "codemirror_mode": {
    "name": "ipython",
    "version": 3
   },
   "file_extension": ".py",
   "mimetype": "text/x-python",
   "name": "python",
   "nbconvert_exporter": "python",
   "pygments_lexer": "ipython3",
   "version": "3.9.5"
  },
  "name": "ekonometria-projekt.ipynb"
 },
 "nbformat": 4,
 "nbformat_minor": 5
}
